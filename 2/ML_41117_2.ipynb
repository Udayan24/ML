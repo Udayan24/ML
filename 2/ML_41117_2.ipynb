{
 "cells": [
  {
   "cell_type": "markdown",
   "id": "3ea78ef7",
   "metadata": {},
   "source": [
    "<h1>ML Assignment 2 - 41117 (P1)</h1>"
   ]
  },
  {
   "cell_type": "markdown",
   "id": "1ec2f6a2",
   "metadata": {},
   "source": [
    "<b>Classify the email using binary classification method. Email Spam detection has two states:</b>\n",
    "- Normal State Not Spam\n",
    "- Abnormal State Spam<br>\n",
    "Use KNN and SVM for classification and analyse their performance"
   ]
  },
  {
   "cell_type": "markdown",
   "id": "9a00dc7e",
   "metadata": {},
   "source": [
    "Import Dependencies"
   ]
  },
  {
   "cell_type": "code",
   "execution_count": 59,
   "id": "c652391f",
   "metadata": {},
   "outputs": [],
   "source": [
    "import pandas as pd\n",
    "import numpy as np\n",
    "\n",
    "# Import preprocessing tools\n",
    "from sklearn.model_selection import train_test_split\n",
    "from sklearn.preprocessing import StandardScaler\n",
    "\n",
    "# Import models\n",
    "from sklearn.neighbors import KNeighborsClassifier\n",
    "from sklearn.svm import SVC\n",
    "\n",
    "# Import evaluation parameters\n",
    "from sklearn.metrics import confusion_matrix, accuracy_score"
   ]
  },
  {
   "cell_type": "markdown",
   "id": "186371f6",
   "metadata": {},
   "source": [
    "Read dataset and get general statistics"
   ]
  },
  {
   "cell_type": "code",
   "execution_count": 60,
   "id": "13c63a0b",
   "metadata": {
    "scrolled": true
   },
   "outputs": [
    {
     "data": {
      "text/html": [
       "<div>\n",
       "<style scoped>\n",
       "    .dataframe tbody tr th:only-of-type {\n",
       "        vertical-align: middle;\n",
       "    }\n",
       "\n",
       "    .dataframe tbody tr th {\n",
       "        vertical-align: top;\n",
       "    }\n",
       "\n",
       "    .dataframe thead th {\n",
       "        text-align: right;\n",
       "    }\n",
       "</style>\n",
       "<table border=\"1\" class=\"dataframe\">\n",
       "  <thead>\n",
       "    <tr style=\"text-align: right;\">\n",
       "      <th></th>\n",
       "      <th>Email No.</th>\n",
       "      <th>the</th>\n",
       "      <th>to</th>\n",
       "      <th>ect</th>\n",
       "      <th>and</th>\n",
       "      <th>for</th>\n",
       "      <th>of</th>\n",
       "      <th>a</th>\n",
       "      <th>you</th>\n",
       "      <th>hou</th>\n",
       "      <th>...</th>\n",
       "      <th>connevey</th>\n",
       "      <th>jay</th>\n",
       "      <th>valued</th>\n",
       "      <th>lay</th>\n",
       "      <th>infrastructure</th>\n",
       "      <th>military</th>\n",
       "      <th>allowing</th>\n",
       "      <th>ff</th>\n",
       "      <th>dry</th>\n",
       "      <th>Prediction</th>\n",
       "    </tr>\n",
       "  </thead>\n",
       "  <tbody>\n",
       "    <tr>\n",
       "      <th>0</th>\n",
       "      <td>Email 1</td>\n",
       "      <td>0</td>\n",
       "      <td>0</td>\n",
       "      <td>1</td>\n",
       "      <td>0</td>\n",
       "      <td>0</td>\n",
       "      <td>0</td>\n",
       "      <td>2</td>\n",
       "      <td>0</td>\n",
       "      <td>0</td>\n",
       "      <td>...</td>\n",
       "      <td>0</td>\n",
       "      <td>0</td>\n",
       "      <td>0</td>\n",
       "      <td>0</td>\n",
       "      <td>0</td>\n",
       "      <td>0</td>\n",
       "      <td>0</td>\n",
       "      <td>0</td>\n",
       "      <td>0</td>\n",
       "      <td>0</td>\n",
       "    </tr>\n",
       "    <tr>\n",
       "      <th>1</th>\n",
       "      <td>Email 2</td>\n",
       "      <td>8</td>\n",
       "      <td>13</td>\n",
       "      <td>24</td>\n",
       "      <td>6</td>\n",
       "      <td>6</td>\n",
       "      <td>2</td>\n",
       "      <td>102</td>\n",
       "      <td>1</td>\n",
       "      <td>27</td>\n",
       "      <td>...</td>\n",
       "      <td>0</td>\n",
       "      <td>0</td>\n",
       "      <td>0</td>\n",
       "      <td>0</td>\n",
       "      <td>0</td>\n",
       "      <td>0</td>\n",
       "      <td>0</td>\n",
       "      <td>1</td>\n",
       "      <td>0</td>\n",
       "      <td>0</td>\n",
       "    </tr>\n",
       "    <tr>\n",
       "      <th>2</th>\n",
       "      <td>Email 3</td>\n",
       "      <td>0</td>\n",
       "      <td>0</td>\n",
       "      <td>1</td>\n",
       "      <td>0</td>\n",
       "      <td>0</td>\n",
       "      <td>0</td>\n",
       "      <td>8</td>\n",
       "      <td>0</td>\n",
       "      <td>0</td>\n",
       "      <td>...</td>\n",
       "      <td>0</td>\n",
       "      <td>0</td>\n",
       "      <td>0</td>\n",
       "      <td>0</td>\n",
       "      <td>0</td>\n",
       "      <td>0</td>\n",
       "      <td>0</td>\n",
       "      <td>0</td>\n",
       "      <td>0</td>\n",
       "      <td>0</td>\n",
       "    </tr>\n",
       "    <tr>\n",
       "      <th>3</th>\n",
       "      <td>Email 4</td>\n",
       "      <td>0</td>\n",
       "      <td>5</td>\n",
       "      <td>22</td>\n",
       "      <td>0</td>\n",
       "      <td>5</td>\n",
       "      <td>1</td>\n",
       "      <td>51</td>\n",
       "      <td>2</td>\n",
       "      <td>10</td>\n",
       "      <td>...</td>\n",
       "      <td>0</td>\n",
       "      <td>0</td>\n",
       "      <td>0</td>\n",
       "      <td>0</td>\n",
       "      <td>0</td>\n",
       "      <td>0</td>\n",
       "      <td>0</td>\n",
       "      <td>0</td>\n",
       "      <td>0</td>\n",
       "      <td>0</td>\n",
       "    </tr>\n",
       "    <tr>\n",
       "      <th>4</th>\n",
       "      <td>Email 5</td>\n",
       "      <td>7</td>\n",
       "      <td>6</td>\n",
       "      <td>17</td>\n",
       "      <td>1</td>\n",
       "      <td>5</td>\n",
       "      <td>2</td>\n",
       "      <td>57</td>\n",
       "      <td>0</td>\n",
       "      <td>9</td>\n",
       "      <td>...</td>\n",
       "      <td>0</td>\n",
       "      <td>0</td>\n",
       "      <td>0</td>\n",
       "      <td>0</td>\n",
       "      <td>0</td>\n",
       "      <td>0</td>\n",
       "      <td>0</td>\n",
       "      <td>1</td>\n",
       "      <td>0</td>\n",
       "      <td>0</td>\n",
       "    </tr>\n",
       "  </tbody>\n",
       "</table>\n",
       "<p>5 rows × 3002 columns</p>\n",
       "</div>"
      ],
      "text/plain": [
       "  Email No.  the  to  ect  and  for  of    a  you  hou  ...  connevey  jay  \\\n",
       "0   Email 1    0   0    1    0    0   0    2    0    0  ...         0    0   \n",
       "1   Email 2    8  13   24    6    6   2  102    1   27  ...         0    0   \n",
       "2   Email 3    0   0    1    0    0   0    8    0    0  ...         0    0   \n",
       "3   Email 4    0   5   22    0    5   1   51    2   10  ...         0    0   \n",
       "4   Email 5    7   6   17    1    5   2   57    0    9  ...         0    0   \n",
       "\n",
       "   valued  lay  infrastructure  military  allowing  ff  dry  Prediction  \n",
       "0       0    0               0         0         0   0    0           0  \n",
       "1       0    0               0         0         0   1    0           0  \n",
       "2       0    0               0         0         0   0    0           0  \n",
       "3       0    0               0         0         0   0    0           0  \n",
       "4       0    0               0         0         0   1    0           0  \n",
       "\n",
       "[5 rows x 3002 columns]"
      ]
     },
     "execution_count": 60,
     "metadata": {},
     "output_type": "execute_result"
    }
   ],
   "source": [
    "df = pd.read_csv(\"emails.csv\")\n",
    "df.head()"
   ]
  },
  {
   "cell_type": "code",
   "execution_count": 61,
   "id": "9a380410",
   "metadata": {
    "scrolled": true
   },
   "outputs": [
    {
     "name": "stdout",
     "output_type": "stream",
     "text": [
      "<class 'pandas.core.frame.DataFrame'>\n",
      "RangeIndex: 5172 entries, 0 to 5171\n",
      "Columns: 3002 entries, Email No. to Prediction\n",
      "dtypes: int64(3001), object(1)\n",
      "memory usage: 118.5+ MB\n"
     ]
    }
   ],
   "source": [
    "df.info()"
   ]
  },
  {
   "cell_type": "markdown",
   "id": "4115838a",
   "metadata": {},
   "source": [
    "Check for Null values"
   ]
  },
  {
   "cell_type": "code",
   "execution_count": 62,
   "id": "a1887b94",
   "metadata": {
    "scrolled": true
   },
   "outputs": [
    {
     "data": {
      "text/plain": [
       "Email No.     0\n",
       "the           0\n",
       "to            0\n",
       "ect           0\n",
       "and           0\n",
       "             ..\n",
       "military      0\n",
       "allowing      0\n",
       "ff            0\n",
       "dry           0\n",
       "Prediction    0\n",
       "Length: 3002, dtype: int64"
      ]
     },
     "execution_count": 62,
     "metadata": {},
     "output_type": "execute_result"
    }
   ],
   "source": [
    "df.isnull().sum()"
   ]
  },
  {
   "cell_type": "markdown",
   "id": "1c2be526",
   "metadata": {},
   "source": [
    "Creating feature and target variables"
   ]
  },
  {
   "cell_type": "code",
   "execution_count": 63,
   "id": "02a6419f",
   "metadata": {
    "scrolled": true
   },
   "outputs": [
    {
     "name": "stdout",
     "output_type": "stream",
     "text": [
      "[[ 0  0  1 ...  0  0  0]\n",
      " [ 8 13 24 ...  0  1  0]\n",
      " [ 0  0  1 ...  0  0  0]\n",
      " ...\n",
      " [ 0  0  1 ...  0  0  0]\n",
      " [ 2  7  1 ...  0  1  0]\n",
      " [22 24  5 ...  0  0  0]] [0 0 0 ... 1 1 0]\n"
     ]
    }
   ],
   "source": [
    "X = df.iloc[:, 1:-1].values # Word frequencies \n",
    "Y = df.iloc[:, -1].values # Prediction column (0,1)\n",
    "\n",
    "print(X, Y)"
   ]
  },
  {
   "cell_type": "markdown",
   "id": "909e59fb",
   "metadata": {},
   "source": [
    "Splitting into training and testing datasets"
   ]
  },
  {
   "cell_type": "code",
   "execution_count": 64,
   "id": "d711c965",
   "metadata": {
    "scrolled": true
   },
   "outputs": [
    {
     "name": "stdout",
     "output_type": "stream",
     "text": [
      "X_train: 4137\n",
      "Y_train: 4137\n",
      "X_test: 1035\n",
      "Y_test: 1035\n"
     ]
    }
   ],
   "source": [
    "X_train, X_test, Y_train, Y_test = train_test_split(X, Y, test_size = 0.2, random_state = 0)\n",
    "print(\"X_train:\", len(X_train))\n",
    "print(\"Y_train:\", len(Y_train))\n",
    "print(\"X_test:\", len(X_test))\n",
    "print(\"Y_test:\", len(Y_test))"
   ]
  },
  {
   "cell_type": "markdown",
   "id": "8351b350",
   "metadata": {},
   "source": [
    "Scaling Features"
   ]
  },
  {
   "cell_type": "code",
   "execution_count": 65,
   "id": "17be5daf",
   "metadata": {
    "scrolled": true
   },
   "outputs": [
    {
     "name": "stdout",
     "output_type": "stream",
     "text": [
      "[[ 0  0  2 ...  0  1  0]\n",
      " [14 22  5 ...  0  4  0]\n",
      " [ 2  0  3 ...  0  2  0]\n",
      " [ 0  0  1 ...  0  0  0]\n",
      " [ 1  0  1 ...  0  0  0]]\n",
      "\n",
      "[[-0.5645139  -0.64670049 -0.22485481 ... -0.06032421  0.01783856\n",
      "  -0.07215751]\n",
      " [ 0.62527927  1.61622908 -0.01529762 ... -0.06032421  1.04281228\n",
      "  -0.07215751]\n",
      " [-0.39454345 -0.64670049 -0.15500242 ... -0.06032421  0.35949647\n",
      "  -0.07215751]\n",
      " [-0.5645139  -0.64670049 -0.29470721 ... -0.06032421 -0.32381935\n",
      "  -0.07215751]\n",
      " [-0.47952868 -0.64670049 -0.29470721 ... -0.06032421 -0.32381935\n",
      "  -0.07215751]]\n"
     ]
    }
   ],
   "source": [
    "print(X_train[:5])\n",
    "\n",
    "s = StandardScaler()\n",
    "X_train = s.fit_transform(X_train)\n",
    "X_test = s.transform(X_test)\n",
    "\n",
    "print()\n",
    "print(X_train[:5])"
   ]
  },
  {
   "cell_type": "markdown",
   "id": "516adad5",
   "metadata": {},
   "source": [
    "<b>KNN MODEL</b><br>\n",
    "- Counts 'k' neighbours of data points\n",
    "- Data point is categorized into the category that contains most of the nearest neighbours"
   ]
  },
  {
   "cell_type": "code",
   "execution_count": 66,
   "id": "154bbe41",
   "metadata": {},
   "outputs": [
    {
     "data": {
      "text/plain": [
       "KNeighborsClassifier()"
      ]
     },
     "execution_count": 66,
     "metadata": {},
     "output_type": "execute_result"
    }
   ],
   "source": [
    "knn = KNeighborsClassifier()\n",
    "knn.fit(X_train, Y_train)"
   ]
  },
  {
   "cell_type": "code",
   "execution_count": 67,
   "id": "28bb6597",
   "metadata": {
    "scrolled": true
   },
   "outputs": [
    {
     "name": "stdout",
     "output_type": "stream",
     "text": [
      "Y_test: [0 0 0 ... 1 0 0]\n",
      "Y_pred: [1 0 0 ... 1 0 0]\n"
     ]
    }
   ],
   "source": [
    "Y_pred = knn.predict(X_test)\n",
    "print(\"Y_test:\", Y_test)\n",
    "print(\"Y_pred:\", Y_pred)"
   ]
  },
  {
   "cell_type": "code",
   "execution_count": 74,
   "id": "3e0893b3",
   "metadata": {},
   "outputs": [
    {
     "name": "stdout",
     "output_type": "stream",
     "text": [
      "KNN Confusion Matrix:\n",
      "[[586 164]\n",
      " [ 19 266]]\n",
      "\n",
      "KNN Accuracy: 0.8231884057971014\n"
     ]
    }
   ],
   "source": [
    "cm1 = confusion_matrix(Y_test, Y_pred)\n",
    "print(\"KNN Confusion Matrix:\")\n",
    "print(cm1)\n",
    "\n",
    "acc1 = accuracy_score(Y_test, Y_pred)\n",
    "print(\"\\nKNN Accuracy:\", acc1)"
   ]
  },
  {
   "cell_type": "markdown",
   "id": "7875c05d",
   "metadata": {},
   "source": [
    "<b>SVM MODEL</b><br>\n",
    "- Tries to create a decision boundary / hyperplane for classification\n",
    "- Can be linear or non-linear"
   ]
  },
  {
   "cell_type": "code",
   "execution_count": 75,
   "id": "c3a928f1",
   "metadata": {},
   "outputs": [
    {
     "data": {
      "text/plain": [
       "SVC()"
      ]
     },
     "execution_count": 75,
     "metadata": {},
     "output_type": "execute_result"
    }
   ],
   "source": [
    "sv = SVC()\n",
    "sv.fit(X_train, Y_train)"
   ]
  },
  {
   "cell_type": "code",
   "execution_count": 76,
   "id": "da812065",
   "metadata": {},
   "outputs": [
    {
     "name": "stdout",
     "output_type": "stream",
     "text": [
      "Y_test: [0 0 0 ... 1 0 0]\n",
      "Y_pred: [0 0 0 ... 1 0 0]\n"
     ]
    }
   ],
   "source": [
    "Y_pred = sv.predict(X_test)\n",
    "print(\"Y_test:\", Y_test)\n",
    "print(\"Y_pred:\", Y_pred)"
   ]
  },
  {
   "cell_type": "code",
   "execution_count": 79,
   "id": "ee59cc03",
   "metadata": {
    "scrolled": true
   },
   "outputs": [
    {
     "name": "stdout",
     "output_type": "stream",
     "text": [
      "SVM Confusion Matrix:\n",
      "[[747   3]\n",
      " [ 64 221]]\n",
      "\n",
      " SVM Accuracy: 0.9352657004830918\n"
     ]
    }
   ],
   "source": [
    "cm2 = confusion_matrix(Y_test, Y_pred)\n",
    "print(\"SVM Confusion Matrix:\")\n",
    "print(cm2)\n",
    "\n",
    "acc2 = accuracy_score(Y_test, Y_pred)\n",
    "print(\"\\n SVM Accuracy:\", acc2)"
   ]
  },
  {
   "cell_type": "markdown",
   "id": "da6a48bf",
   "metadata": {},
   "source": [
    "<b>Accuracy:</b><br>\n",
    "- <b>KNN: </b>0.823\n",
    "- <b>SVM: </b>0.935\n",
    "<br><br>\n",
    "Hence SVM provided a better accuracy but took longer to compute."
   ]
  }
 ],
 "metadata": {
  "kernelspec": {
   "display_name": "Python 3 (ipykernel)",
   "language": "python",
   "name": "python3"
  },
  "language_info": {
   "codemirror_mode": {
    "name": "ipython",
    "version": 3
   },
   "file_extension": ".py",
   "mimetype": "text/x-python",
   "name": "python",
   "nbconvert_exporter": "python",
   "pygments_lexer": "ipython3",
   "version": "3.9.7"
  }
 },
 "nbformat": 4,
 "nbformat_minor": 5
}
